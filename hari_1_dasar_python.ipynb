{
  "nbformat": 4,
  "nbformat_minor": 0,
  "metadata": {
    "colab": {
      "provenance": [],
      "authorship_tag": "ABX9TyNT+CqfuhKP6YOxYMJIc5Gj",
      "include_colab_link": true
    },
    "kernelspec": {
      "name": "python3",
      "display_name": "Python 3"
    },
    "language_info": {
      "name": "python"
    }
  },
  "cells": [
    {
      "cell_type": "markdown",
      "metadata": {
        "id": "view-in-github",
        "colab_type": "text"
      },
      "source": [
        "<a href=\"https://colab.research.google.com/github/sicilliapuai/belajar_python/blob/main/hari_1_dasar_python.ipynb\" target=\"_parent\"><img src=\"https://colab.research.google.com/assets/colab-badge.svg\" alt=\"Open In Colab\"/></a>"
      ]
    },
    {
      "cell_type": "markdown",
      "source": [
        "# Belajar Python - Hari 1\n",
        "## Variabel, Tipe Data, Input/Output"
      ],
      "metadata": {
        "id": "QXTeGI_dSjZw"
      }
    },
    {
      "cell_type": "markdown",
      "source": [
        "---\n",
        "## Tujuan:\n",
        "- Memahami konsep variabel dan tipe data dasar di Python\n",
        "- Belajar input/output sederhana\n",
        "- Membuat mini project: program input nama dan umur\n",
        "---"
      ],
      "metadata": {
        "id": "74TqZ7DgSorA"
      }
    },
    {
      "cell_type": "code",
      "source": [
        "# --- Belajar Variabel, Tipe Data, dan Input di Python ---\n",
        "\n",
        "# 1. Contoh Variabel\n",
        "nama = \"Sicillia\"\n",
        "umur = 25\n",
        "tinggi = 156\n",
        "is_mahasiswa = True\n",
        "\n",
        "# Output Variabel\n",
        "print(\"Nama saya:\", nama)\n",
        "print(\"Umur saya:\", umur, \"tahun\")\n",
        "print(\"Tinggi saya:\", tinggi, \"cm\")\n",
        "print(\"Apakah saya mahasiswa?\", is_mahasiswa)\n",
        "\n",
        "# 2. Input dari User\n",
        "nama_user = input(\"Masukkan nama kamu: \")\n",
        "umur_user = input(\"Masukkan umur kamu: \")\n",
        "\n",
        "# Output dari Input\n",
        "print(\"Halo\", nama_user, \"umur kamu adalah\", umur_user, \"tahun.\")"
      ],
      "metadata": {
        "colab": {
          "base_uri": "https://localhost:8080/"
        },
        "id": "Tpg9IJZhS1F_",
        "outputId": "84c20442-f29f-4e49-8117-0c2b7b95842e"
      },
      "execution_count": null,
      "outputs": [
        {
          "output_type": "stream",
          "name": "stdout",
          "text": [
            "Nama saya: Sicillia\n",
            "Umur saya: 25 tahun\n",
            "Tinggi saya: 156 cm\n",
            "Apakah saya mahasiswa? True\n",
            "Masukkan nama kamu: Sicillia\n",
            "Masukkan umur kamu: 25\n",
            "Halo Sicillia umur kamu adalah 25 tahun.\n"
          ]
        }
      ]
    },
    {
      "cell_type": "markdown",
      "source": [
        "---\n",
        "## Tantangan:\n",
        "Buat program Python yang:\n",
        "- Meminta input nama\n",
        "- Meminta input umur\n",
        "- Meminta input cita-cita\n",
        "- Menampilkan hasil format:\n",
        "\n",
        "\"Halo, nama saya `____`, saya berumur `____` tahun, dan cita-cita saya menjadi `____`.\"\n",
        "---"
      ],
      "metadata": {
        "id": "iajyBsflTAwb"
      }
    },
    {
      "cell_type": "code",
      "source": [
        "#Input user\n",
        "nama = input(\"input nama: \")\n",
        "umur = input(\"input umur: \")\n",
        "cita_cita = input(\"input cita-cita: \")\n",
        "\n",
        "#Output\n",
        "print(\"Halo, nama saya \", nama, \", saya berumur \", umur, \"tahun, dan cita-cita saya menjadi \", cita_cita,\".\")"
      ],
      "metadata": {
        "colab": {
          "base_uri": "https://localhost:8080/"
        },
        "id": "63BWtP90SCr6",
        "outputId": "8abd6835-4d87-4cda-a244-d34386244205"
      },
      "execution_count": null,
      "outputs": [
        {
          "output_type": "stream",
          "name": "stdout",
          "text": [
            "input nama: Sicillia Putri Aisyah\n",
            "input umur: 25\n",
            "input cita-cita: Programmer\n",
            "Halo, nama saya  Sicillia Putri Aisyah , saya berumur  25 tahun, dan cita-cita saya menjadi  Programmer .\n"
          ]
        }
      ]
    },
    {
      "cell_type": "markdown",
      "source": [
        "---\n",
        "## Checklist Hari Ini:\n",
        "- [x] Memahami variabel dan tipe data\n",
        "- [x] Membuat program sederhana\n",
        "- [x] Menyelesaikan tantangan tambahan\n",
        "- [x] Menyimpan file ke Drive\n",
        "---"
      ],
      "metadata": {
        "id": "SQDqcZ5fUdKV"
      }
    }
  ]
}